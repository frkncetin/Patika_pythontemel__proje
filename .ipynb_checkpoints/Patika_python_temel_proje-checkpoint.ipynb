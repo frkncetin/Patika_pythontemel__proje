{
 "cells": [
  {
   "cell_type": "markdown",
   "id": "67027860",
   "metadata": {},
   "source": [
    "1- Bir listeyi düzleştiren (flatten) fonksiyon yazın. \n",
    "Elemanları birden çok katmanlı listelerden ([[3],2] gibi) oluşabileceği gibi, non-scalar verilerden de oluşabilir. Örnek olarak:\n",
    "\n",
    "input: [[1,'a',['cat'],2],[[[3]],'dog'],4,5]\n",
    "\n",
    "output: [1,'a','cat',2,3,'dog',4,5]\n",
    "\n",
    "2- Verilen listenin içindeki elemanları tersine döndüren bir fonksiyon yazın. \n",
    "Eğer listenin içindeki elemanlar da liste içeriyorsa onların elemanlarını da tersine döndürün. Örnek olarak:\n",
    "\n",
    "input: [[1, 2], [3, 4], [5, 6, 7]]\n",
    "\n",
    "output: [[[7, 6, 5], [4, 3], [2, 1]]"
   ]
  },
  {
   "cell_type": "code",
   "execution_count": 163,
   "id": "421b88ac",
   "metadata": {},
   "outputs": [
    {
     "name": "stdout",
     "output_type": "stream",
     "text": [
      "[1, 'a', 'cat', 2, 3, 'dog', 4, 5]\n"
     ]
    }
   ],
   "source": [
    "liste1 = [[1,'a',['cat'],2],[[[3]],'dog'],4,5]\n",
    "\n",
    "m = []\n",
    "\n",
    "def flatten_list(l):\n",
    "    \n",
    "    for i in l:\n",
    "        if type(i)== list:\n",
    "            flatten_list(i)      \n",
    "        else:\n",
    "            m.append(i)\n",
    "            \n",
    "    return m\n",
    "\n",
    "print(flatten_list(liste1))"
   ]
  },
  {
   "cell_type": "code",
   "execution_count": 164,
   "id": "735caa55",
   "metadata": {},
   "outputs": [
    {
     "name": "stdout",
     "output_type": "stream",
     "text": [
      "[[7, 6, 5], [4, 3], [2, 1]]\n"
     ]
    }
   ],
   "source": [
    "liste2 = [[1, 2], [3, 4], [5, 6, 7]]\n",
    "d=[]\n",
    "def reverse_list(liste):\n",
    "    liste.reverse()\n",
    "    for i in liste:\n",
    "        if type(i)==list:\n",
    "            reverse_list(i)\n",
    "reverse_list(liste2)        \n",
    "print(liste2)"
   ]
  },
  {
   "cell_type": "code",
   "execution_count": null,
   "id": "333b685c",
   "metadata": {},
   "outputs": [],
   "source": []
  }
 ],
 "metadata": {
  "kernelspec": {
   "display_name": "Python 3 (ipykernel)",
   "language": "python",
   "name": "python3"
  },
  "language_info": {
   "codemirror_mode": {
    "name": "ipython",
    "version": 3
   },
   "file_extension": ".py",
   "mimetype": "text/x-python",
   "name": "python",
   "nbconvert_exporter": "python",
   "pygments_lexer": "ipython3",
   "version": "3.11.1"
  }
 },
 "nbformat": 4,
 "nbformat_minor": 5
}
